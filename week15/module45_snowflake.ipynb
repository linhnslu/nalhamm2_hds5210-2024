{
  "nbformat": 4,
  "nbformat_minor": 0,
  "metadata": {
    "colab": {
      "provenance": [],
      "authorship_tag": "ABX9TyMFFJcYZVSKOkN4xlN9Z10u",
      "include_colab_link": true
    },
    "kernelspec": {
      "name": "python3",
      "display_name": "Python 3"
    },
    "language_info": {
      "name": "python"
    }
  },
  "cells": [
    {
      "cell_type": "markdown",
      "metadata": {
        "id": "view-in-github",
        "colab_type": "text"
      },
      "source": [
        "<a href=\"https://colab.research.google.com/github/paulboal/hds5210-2023-private/blob/main/week15/module45_snowflake.ipynb\" target=\"_parent\"><img src=\"https://colab.research.google.com/assets/colab-badge.svg\" alt=\"Open In Colab\"/></a>"
      ]
    },
    {
      "cell_type": "code",
      "execution_count": null,
      "metadata": {
        "id": "TbZwRZc44BNM"
      },
      "outputs": [],
      "source": [
        "!pip install \"snowflake-connector-python[pandas]\""
      ]
    },
    {
      "cell_type": "code",
      "source": [
        "import snowflake.connector\n",
        "\n",
        "if con:\n",
        "  con.close()\n",
        "\n",
        "con = snowflake.connector.connect(\n",
        "    user='demo',\n",
        "    password='Tc$NS*Fz2jX2WB35',\n",
        "    account='PLEARRH-TR68815',\n",
        "    database='DEMO',\n",
        "    schema='PUBLIC',\n",
        "    warehouse='COMPUTE_WH',\n",
        "    session_parameters={\n",
        "        'QUERY_TAG': 'Demo User Interaction',\n",
        "    }\n",
        ")"
      ],
      "metadata": {
        "id": "sg7pBn2n4RsF"
      },
      "execution_count": 60,
      "outputs": []
    },
    {
      "cell_type": "code",
      "source": [
        "# con.cursor().execute('use database demo')\n",
        "# con.cursor().execute('use schema public')\n",
        "df = con.cursor().execute('''\n",
        "  select current_account(),\n",
        "         current_timestamp(),\n",
        "         current_database(),\n",
        "         current_schema(),\n",
        "         current_warehouse();''').fetch_pandas_all()"
      ],
      "metadata": {
        "id": "MR4qGjT75R6f"
      },
      "execution_count": 61,
      "outputs": []
    },
    {
      "cell_type": "code",
      "source": [
        "df"
      ],
      "metadata": {
        "colab": {
          "base_uri": "https://localhost:8080/",
          "height": 80
        },
        "id": "WN7_lwyn7HB-",
        "outputId": "65373f3e-a7a8-48da-e514-2b959eef0888"
      },
      "execution_count": 62,
      "outputs": [
        {
          "output_type": "execute_result",
          "data": {
            "text/plain": [
              "  CURRENT_ACCOUNT()              CURRENT_TIMESTAMP() CURRENT_DATABASE()  \\\n",
              "0           AS64885 2023-12-01 07:24:34.696000-08:00               DEMO   \n",
              "\n",
              "  CURRENT_SCHEMA() CURRENT_WAREHOUSE()  \n",
              "0           PUBLIC          COMPUTE_WH  "
            ],
            "text/html": [
              "\n",
              "  <div id=\"df-9dc34d03-26b5-4b9e-8657-d213d45e0609\" class=\"colab-df-container\">\n",
              "    <div>\n",
              "<style scoped>\n",
              "    .dataframe tbody tr th:only-of-type {\n",
              "        vertical-align: middle;\n",
              "    }\n",
              "\n",
              "    .dataframe tbody tr th {\n",
              "        vertical-align: top;\n",
              "    }\n",
              "\n",
              "    .dataframe thead th {\n",
              "        text-align: right;\n",
              "    }\n",
              "</style>\n",
              "<table border=\"1\" class=\"dataframe\">\n",
              "  <thead>\n",
              "    <tr style=\"text-align: right;\">\n",
              "      <th></th>\n",
              "      <th>CURRENT_ACCOUNT()</th>\n",
              "      <th>CURRENT_TIMESTAMP()</th>\n",
              "      <th>CURRENT_DATABASE()</th>\n",
              "      <th>CURRENT_SCHEMA()</th>\n",
              "      <th>CURRENT_WAREHOUSE()</th>\n",
              "    </tr>\n",
              "  </thead>\n",
              "  <tbody>\n",
              "    <tr>\n",
              "      <th>0</th>\n",
              "      <td>AS64885</td>\n",
              "      <td>2023-12-01 07:24:34.696000-08:00</td>\n",
              "      <td>DEMO</td>\n",
              "      <td>PUBLIC</td>\n",
              "      <td>COMPUTE_WH</td>\n",
              "    </tr>\n",
              "  </tbody>\n",
              "</table>\n",
              "</div>\n",
              "    <div class=\"colab-df-buttons\">\n",
              "\n",
              "  <div class=\"colab-df-container\">\n",
              "    <button class=\"colab-df-convert\" onclick=\"convertToInteractive('df-9dc34d03-26b5-4b9e-8657-d213d45e0609')\"\n",
              "            title=\"Convert this dataframe to an interactive table.\"\n",
              "            style=\"display:none;\">\n",
              "\n",
              "  <svg xmlns=\"http://www.w3.org/2000/svg\" height=\"24px\" viewBox=\"0 -960 960 960\">\n",
              "    <path d=\"M120-120v-720h720v720H120Zm60-500h600v-160H180v160Zm220 220h160v-160H400v160Zm0 220h160v-160H400v160ZM180-400h160v-160H180v160Zm440 0h160v-160H620v160ZM180-180h160v-160H180v160Zm440 0h160v-160H620v160Z\"/>\n",
              "  </svg>\n",
              "    </button>\n",
              "\n",
              "  <style>\n",
              "    .colab-df-container {\n",
              "      display:flex;\n",
              "      gap: 12px;\n",
              "    }\n",
              "\n",
              "    .colab-df-convert {\n",
              "      background-color: #E8F0FE;\n",
              "      border: none;\n",
              "      border-radius: 50%;\n",
              "      cursor: pointer;\n",
              "      display: none;\n",
              "      fill: #1967D2;\n",
              "      height: 32px;\n",
              "      padding: 0 0 0 0;\n",
              "      width: 32px;\n",
              "    }\n",
              "\n",
              "    .colab-df-convert:hover {\n",
              "      background-color: #E2EBFA;\n",
              "      box-shadow: 0px 1px 2px rgba(60, 64, 67, 0.3), 0px 1px 3px 1px rgba(60, 64, 67, 0.15);\n",
              "      fill: #174EA6;\n",
              "    }\n",
              "\n",
              "    .colab-df-buttons div {\n",
              "      margin-bottom: 4px;\n",
              "    }\n",
              "\n",
              "    [theme=dark] .colab-df-convert {\n",
              "      background-color: #3B4455;\n",
              "      fill: #D2E3FC;\n",
              "    }\n",
              "\n",
              "    [theme=dark] .colab-df-convert:hover {\n",
              "      background-color: #434B5C;\n",
              "      box-shadow: 0px 1px 3px 1px rgba(0, 0, 0, 0.15);\n",
              "      filter: drop-shadow(0px 1px 2px rgba(0, 0, 0, 0.3));\n",
              "      fill: #FFFFFF;\n",
              "    }\n",
              "  </style>\n",
              "\n",
              "    <script>\n",
              "      const buttonEl =\n",
              "        document.querySelector('#df-9dc34d03-26b5-4b9e-8657-d213d45e0609 button.colab-df-convert');\n",
              "      buttonEl.style.display =\n",
              "        google.colab.kernel.accessAllowed ? 'block' : 'none';\n",
              "\n",
              "      async function convertToInteractive(key) {\n",
              "        const element = document.querySelector('#df-9dc34d03-26b5-4b9e-8657-d213d45e0609');\n",
              "        const dataTable =\n",
              "          await google.colab.kernel.invokeFunction('convertToInteractive',\n",
              "                                                    [key], {});\n",
              "        if (!dataTable) return;\n",
              "\n",
              "        const docLinkHtml = 'Like what you see? Visit the ' +\n",
              "          '<a target=\"_blank\" href=https://colab.research.google.com/notebooks/data_table.ipynb>data table notebook</a>'\n",
              "          + ' to learn more about interactive tables.';\n",
              "        element.innerHTML = '';\n",
              "        dataTable['output_type'] = 'display_data';\n",
              "        await google.colab.output.renderOutput(dataTable, element);\n",
              "        const docLink = document.createElement('div');\n",
              "        docLink.innerHTML = docLinkHtml;\n",
              "        element.appendChild(docLink);\n",
              "      }\n",
              "    </script>\n",
              "  </div>\n",
              "\n",
              "    </div>\n",
              "  </div>\n"
            ]
          },
          "metadata": {},
          "execution_count": 62
        }
      ]
    },
    {
      "cell_type": "code",
      "source": [
        "import pandas as pd"
      ],
      "metadata": {
        "id": "0KrrNTw67Kba"
      },
      "execution_count": 64,
      "outputs": []
    },
    {
      "cell_type": "code",
      "source": [
        "df = pd.DataFrame({\n",
        "    'LAST_NAME': ['Boal', 'Boal', 'Lester'],\n",
        "    'FIRST_NAME': ['Paul', 'James', 'Sarahlynn']\n",
        "})"
      ],
      "metadata": {
        "id": "er4XVYVU8LSN"
      },
      "execution_count": 65,
      "outputs": []
    },
    {
      "cell_type": "code",
      "source": [
        "from snowflake.connector.pandas_tools import write_pandas\n",
        "\n",
        "con.cursor().execute('create table if not exists NAMES (LAST_NAME varchar, FIRST_NAME varchar)')\n",
        "\n",
        "write_pandas(con, df, 'NAMES')"
      ],
      "metadata": {
        "colab": {
          "base_uri": "https://localhost:8080/"
        },
        "id": "LxvILlhN8Vo3",
        "outputId": "5d917638-36dc-4c7c-c57f-930597fa14ec"
      },
      "execution_count": 66,
      "outputs": [
        {
          "output_type": "execute_result",
          "data": {
            "text/plain": [
              "(True,\n",
              " 1,\n",
              " 3,\n",
              " [('cgqgsudyan/file0.txt', 'LOADED', 3, 3, 1, 0, None, None, None, None)])"
            ]
          },
          "metadata": {},
          "execution_count": 66
        }
      ]
    },
    {
      "cell_type": "code",
      "source": [],
      "metadata": {
        "id": "0e78qq9H-TM1"
      },
      "execution_count": null,
      "outputs": []
    }
  ]
}